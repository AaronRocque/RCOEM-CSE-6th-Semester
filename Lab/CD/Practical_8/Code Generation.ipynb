{
 "cells": [
  {
   "cell_type": "code",
   "execution_count": 1,
   "id": "f8519dce",
   "metadata": {},
   "outputs": [
    {
     "name": "stdout",
     "output_type": "stream",
     "text": [
      "MOV R0, 5\n",
      "MOV R1, 3\n",
      "MOV R2, 4\n",
      "ADD R2, R2, R3\n",
      "MUL R1, R1, R2\n",
      "MOV R1, 2\n",
      "SUB R1, R1, R2\n"
     ]
    }
   ],
   "source": [
    "def generate_assembly_code(rpn_expression):\n",
    "    register_counter = 0\n",
    "    assembly_code = []\n",
    "\n",
    "    for token in rpn_expression:\n",
    "        if token == '+':\n",
    "            assembly_code.append(f'ADD R{register_counter - 1}, R{register_counter - 1}, R{register_counter}')\n",
    "            register_counter -= 1\n",
    "        elif token == '-':\n",
    "            assembly_code.append(f'SUB R{register_counter - 1}, R{register_counter - 1}, R{register_counter}')\n",
    "            register_counter -= 1\n",
    "        elif token == '*':\n",
    "            assembly_code.append(f'MUL R{register_counter - 1}, R{register_counter - 1}, R{register_counter}')\n",
    "            register_counter -= 1\n",
    "        elif token == '/':\n",
    "            assembly_code.append(f'DIV R{register_counter - 1}, R{register_counter - 1}, R{register_counter}')\n",
    "            register_counter -= 1\n",
    "        else:\n",
    "            assembly_code.append(f'MOV R{register_counter}, {token}')\n",
    "            register_counter += 1\n",
    "\n",
    "    return assembly_code\n",
    "\n",
    "# Input RPN expression\n",
    "# his assembly code calculates the value of the expression 5 * (3 + 4) - 2\n",
    "rpn_expression = ['5', '3', '4', '+', '*', '2', '-']\n",
    "\n",
    "# Generate assembly code for the RPN expression\n",
    "assembly_code = generate_assembly_code(rpn_expression)\n",
    "\n",
    "# Print assembly code\n",
    "for instruction in assembly_code:\n",
    "    print(instruction)\n"
   ]
  },
  {
   "cell_type": "code",
   "execution_count": null,
   "id": "ce7011de",
   "metadata": {},
   "outputs": [],
   "source": []
  }
 ],
 "metadata": {
  "kernelspec": {
   "display_name": "Python 3 (ipykernel)",
   "language": "python",
   "name": "python3"
  },
  "language_info": {
   "codemirror_mode": {
    "name": "ipython",
    "version": 3
   },
   "file_extension": ".py",
   "mimetype": "text/x-python",
   "name": "python",
   "nbconvert_exporter": "python",
   "pygments_lexer": "ipython3",
   "version": "3.10.9"
  }
 },
 "nbformat": 4,
 "nbformat_minor": 5
}
