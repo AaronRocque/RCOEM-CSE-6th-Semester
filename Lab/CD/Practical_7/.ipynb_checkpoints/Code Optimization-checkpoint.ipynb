{
 "cells": [
  {
   "cell_type": "markdown",
   "id": "2ec07357",
   "metadata": {},
   "source": [
    "COPY PROPOGATION"
   ]
  },
  {
   "cell_type": "code",
   "execution_count": 5,
   "id": "29840e90",
   "metadata": {},
   "outputs": [
    {
     "name": "stdout",
     "output_type": "stream",
     "text": [
      "a = b + c\n",
      "p = a\n",
      "q = p + r\n"
     ]
    }
   ],
   "source": [
    "def optimize_tac(tac):\n",
    "    def copy_propagation(tac):\n",
    "        var_map = {}\n",
    "        optimized_tac = []\n",
    "        for instr in tac:\n",
    "            tokens = instr.split()\n",
    "            if len(tokens) == 5 and tokens[3] == '=': # assignment operation\n",
    "                if tokens[2] in var_map:\n",
    "                    var_map[tokens[0]] = var_map[tokens[2]]\n",
    "                else:\n",
    "                    var_map[tokens[0]] = tokens[2]\n",
    "                    optimized_tac.append(instr)\n",
    "            else:\n",
    "                for key, value in var_map.items():\n",
    "                    instr = instr.replace(key, value)\n",
    "                optimized_tac.append(instr)\n",
    "        return optimized_tac\n",
    "\n",
    "    def constant_propagation(tac):\n",
    "        constants = {}\n",
    "        optimized_tac = []\n",
    "        for instr in tac:\n",
    "            tokens = instr.split()\n",
    "            if len(tokens) == 5 and tokens[3] == '=': # assignment operation\n",
    "                if tokens[2].isdigit():\n",
    "                    constants[tokens[0]] = tokens[2]\n",
    "                else:\n",
    "                    optimized_tac.append(instr)\n",
    "            else:\n",
    "                for key, value in constants.items():\n",
    "                    instr = instr.replace(key, value)\n",
    "                optimized_tac.append(instr)\n",
    "        return optimized_tac\n",
    "\n",
    "    def constant_folding(tac):\n",
    "        optimized_tac = []\n",
    "        for instr in tac:\n",
    "            tokens = instr.split()\n",
    "            if len(tokens) == 5 and tokens[2].isdigit() and tokens[4].isdigit():\n",
    "                result = eval(f\"{tokens[2]} {tokens[3]} {tokens[4]}\")\n",
    "                optimized_tac.append(f\"{tokens[0]} = {result}\")\n",
    "            else:\n",
    "                optimized_tac.append(instr)\n",
    "        return optimized_tac\n",
    "\n",
    "    def common_subexpression_elimination(tac):\n",
    "        seen = set()\n",
    "        optimized_tac = []\n",
    "        for instr in tac:\n",
    "            if instr not in seen:\n",
    "                seen.add(instr)\n",
    "                optimized_tac.append(instr)\n",
    "        return optimized_tac\n",
    "\n",
    "    optimized_tac = tac\n",
    "    prev_len = len(tac) + 1\n",
    "    while prev_len > len(optimized_tac):\n",
    "        prev_len = len(optimized_tac)\n",
    "        optimized_tac = copy_propagation(optimized_tac)\n",
    "        optimized_tac = constant_propagation(optimized_tac)\n",
    "        optimized_tac = constant_folding(optimized_tac)\n",
    "        optimized_tac = common_subexpression_elimination(optimized_tac)\n",
    "\n",
    "    return optimized_tac\n",
    "\n",
    "# Example usage:\n",
    "tac = [\n",
    "    \"a = b + c\",\n",
    "    \"p = a\",\n",
    "    \"q = p + r\"\n",
    "]\n",
    "\n",
    "optimized_tac = optimize_tac(tac)\n",
    "for instr in optimized_tac:\n",
    "    print(instr)\n"
   ]
  },
  {
   "cell_type": "markdown",
   "id": "010e7880",
   "metadata": {},
   "source": [
    "CONSTANT PROPOGATION (NOT WORKING)"
   ]
  },
  {
   "cell_type": "code",
   "execution_count": 28,
   "id": "5c9c46a0",
   "metadata": {},
   "outputs": [
    {
     "name": "stdout",
     "output_type": "stream",
     "text": [
      "a = 1\n",
      "b = a + 3\n"
     ]
    }
   ],
   "source": [
    "import re\n",
    "\n",
    "def optimize_tac(tac):\n",
    "    def constant_propagation(tac):\n",
    "        constants = {}\n",
    "        optimized_tac = []\n",
    "        \n",
    "        for instr in tac:\n",
    "            tokens = instr.split()\n",
    "            if len(tokens) == 5 and tokens[3] == '=':  # assignment operation\n",
    "                if tokens[2].isdigit():\n",
    "                    constants[tokens[0]] = tokens[2]\n",
    "                else:\n",
    "                    optimized_tac.append(instr)\n",
    "            else:\n",
    "                optimized_tac.append(instr)\n",
    "\n",
    "        for i, instr in enumerate(optimized_tac):\n",
    "            for key, value in constants.items():\n",
    "                optimized_tac[i] = re.sub(rf'\\b{key}\\b', value, instr)\n",
    "\n",
    "        return optimized_tac\n",
    "\n",
    "    optimized_tac = constant_propagation(tac)\n",
    "    return optimized_tac\n",
    "\n",
    "# Example usage:\n",
    "tac = [\n",
    "    \"a = 1\",\n",
    "    \"b = a + 3\"\n",
    "]\n",
    "\n",
    "optimized_tac = optimize_tac(tac)\n",
    "for instr in optimized_tac:\n",
    "    print(instr)\n"
   ]
  },
  {
   "cell_type": "markdown",
   "id": "3b6480db",
   "metadata": {},
   "source": [
    "CONSTANT FOLDING"
   ]
  },
  {
   "cell_type": "code",
   "execution_count": 23,
   "id": "5dbb8c93",
   "metadata": {},
   "outputs": [
    {
     "name": "stdout",
     "output_type": "stream",
     "text": [
      "x = 12\n"
     ]
    }
   ],
   "source": [
    "def optimize_tac(tac):\n",
    "    def copy_propagation(tac):\n",
    "        var_map = {}\n",
    "        optimized_tac = []\n",
    "        for instr in tac:\n",
    "            tokens = instr.split()\n",
    "            if len(tokens) == 5 and tokens[3] == '=': # assignment operation\n",
    "                if tokens[2] in var_map:\n",
    "                    var_map[tokens[0]] = var_map[tokens[2]]\n",
    "                else:\n",
    "                    var_map[tokens[0]] = tokens[2]\n",
    "                    optimized_tac.append(instr)\n",
    "            else:\n",
    "                for key, value in var_map.items():\n",
    "                    instr = instr.replace(key, value)\n",
    "                optimized_tac.append(instr)\n",
    "        return optimized_tac\n",
    "\n",
    "    def constant_propagation(tac):\n",
    "        constants = {}\n",
    "        optimized_tac = []\n",
    "        for instr in tac:\n",
    "            tokens = instr.split()\n",
    "            if len(tokens) == 5 and tokens[3] == '=': # assignment operation\n",
    "                if tokens[2].isdigit():\n",
    "                    constants[tokens[0]] = tokens[2]\n",
    "                else:\n",
    "                    optimized_tac.append(instr)\n",
    "            else:\n",
    "                for key, value in constants.items():\n",
    "                    instr = instr.replace(key, value)\n",
    "                optimized_tac.append(instr)\n",
    "        return optimized_tac\n",
    "\n",
    "    def constant_folding(tac):\n",
    "        optimized_tac = []\n",
    "        for instr in tac:\n",
    "            tokens = instr.split()\n",
    "            if len(tokens) == 5 and tokens[2].isdigit() and tokens[4].isdigit():\n",
    "                result = eval(f\"{tokens[2]} {tokens[3]} {tokens[4]}\")\n",
    "                optimized_tac.append(f\"{tokens[0]} = {result}\")\n",
    "            else:\n",
    "                optimized_tac.append(instr)\n",
    "        return optimized_tac\n",
    "\n",
    "    def common_subexpression_elimination(tac):\n",
    "        seen = set()\n",
    "        optimized_tac = []\n",
    "        for instr in tac:\n",
    "            if instr not in seen:\n",
    "                seen.add(instr)\n",
    "                optimized_tac.append(instr)\n",
    "        return optimized_tac\n",
    "\n",
    "    optimized_tac = tac\n",
    "    prev_len = len(tac) + 1\n",
    "    while prev_len > len(optimized_tac):\n",
    "        prev_len = len(optimized_tac)\n",
    "        optimized_tac = copy_propagation(optimized_tac)\n",
    "        optimized_tac = constant_propagation(optimized_tac)\n",
    "        optimized_tac = constant_folding(optimized_tac)\n",
    "        optimized_tac = common_subexpression_elimination(optimized_tac)\n",
    "\n",
    "    return optimized_tac\n",
    "\n",
    "# Example usage:\n",
    "tac = [\n",
    "    \"x = 5 + 7\"\n",
    "]\n",
    "\n",
    "optimized_tac = optimize_tac(tac)\n",
    "for instr in optimized_tac:\n",
    "    print(instr)\n"
   ]
  },
  {
   "cell_type": "markdown",
   "id": "4f65466e",
   "metadata": {},
   "source": [
    "COMMON SUBEXPRESION ELIMINATION"
   ]
  },
  {
   "cell_type": "code",
   "execution_count": 27,
   "id": "7598d1ae",
   "metadata": {},
   "outputs": [
    {
     "name": "stdout",
     "output_type": "stream",
     "text": [
      "a = b + c\n",
      "d = e + f\n",
      "g = a\n",
      "h = e - f\n"
     ]
    }
   ],
   "source": [
    "def optimize_tac(tac):\n",
    "    def common_subexpression_elimination(tac):\n",
    "        subexpr_map = {}\n",
    "        optimized_tac = []\n",
    "        for instr in tac:\n",
    "            tokens = instr.split()\n",
    "            if len(tokens) == 5:\n",
    "                subexpr = f\"{tokens[2]} {tokens[3]} {tokens[4]}\"\n",
    "                if subexpr in subexpr_map:\n",
    "                    optimized_tac.append(f\"{tokens[0]} = {subexpr_map[subexpr]}\")\n",
    "                else:\n",
    "                    subexpr_map[subexpr] = tokens[0]\n",
    "                    optimized_tac.append(instr)\n",
    "            else:\n",
    "                optimized_tac.append(instr)\n",
    "        return optimized_tac\n",
    "\n",
    "    optimized_tac = common_subexpression_elimination(tac)\n",
    "    return optimized_tac\n",
    "\n",
    "# Example usage:\n",
    "tac = [\n",
    "    \"a = b + c\",\n",
    "    \"d = e + f\",\n",
    "    \"g = b + c\",\n",
    "    \"h = e - f\"\n",
    "]\n",
    "\n",
    "optimized_tac = optimize_tac(tac)\n",
    "for instr in optimized_tac:\n",
    "    print(instr)\n"
   ]
  },
  {
   "cell_type": "code",
   "execution_count": null,
   "id": "bb257417",
   "metadata": {},
   "outputs": [],
   "source": []
  }
 ],
 "metadata": {
  "kernelspec": {
   "display_name": "Python 3 (ipykernel)",
   "language": "python",
   "name": "python3"
  },
  "language_info": {
   "codemirror_mode": {
    "name": "ipython",
    "version": 3
   },
   "file_extension": ".py",
   "mimetype": "text/x-python",
   "name": "python",
   "nbconvert_exporter": "python",
   "pygments_lexer": "ipython3",
   "version": "3.10.9"
  }
 },
 "nbformat": 4,
 "nbformat_minor": 5
}
