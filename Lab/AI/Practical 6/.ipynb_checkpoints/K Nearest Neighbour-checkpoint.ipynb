{
 "cells": [
  {
   "cell_type": "code",
   "execution_count": 3,
   "id": "a55437ac",
   "metadata": {},
   "outputs": [
    {
     "name": "stdout",
     "output_type": "stream",
     "text": [
      "Test point: (29, 34)\n",
      "Classification with K=1: negative\n",
      "Classification with K=2: negative\n",
      "Classification with K=3: positive\n",
      "Classification with K=4: positive\n",
      "Classification with K=5: positive\n"
     ]
    }
   ],
   "source": [
    "import random\n",
    "import heapq\n",
    "from collections import Counter\n",
    "\n",
    "#random for generating random data points \n",
    "#heapq for maintaing a priority queue\n",
    "#counter to count occurances of each class in nearest neighbor\n",
    "\n",
    "# Generate random data points\n",
    "def generate_data(num_points=20):\n",
    "    data = []\n",
    "    for _ in range(num_points):\n",
    "        x, y = random.randint(0, 50), random.randint(0, 50)\n",
    "        value = \"positive\" if x < 26 or y < 26 else \"negative\"\n",
    "        data.append(((x, y), value))\n",
    "    return data\n",
    "\n",
    "# Calculate Euclidean distance\n",
    "def euclidean_distance(point1, point2):\n",
    "    return ((point1[0] - point2[0])**2 + (point1[1] - point2[1])**2)**0.5\n",
    "\n",
    "# K nearest neighbors algorithm\n",
    "def k_nearest_neighbors(data, point, k=1):\n",
    "    distances = []\n",
    "    for index, item in enumerate(data):\n",
    "        distance = euclidean_distance(point, item[0])\n",
    "        heapq.heappush(distances, (distance, index))\n",
    "    \n",
    "    nearest_neighbors = [data[heapq.heappop(distances)[1]][1] for _ in range(k)]\n",
    "    return Counter(nearest_neighbors).most_common(1)[0][0]\n",
    "\n",
    "# Main program\n",
    "if __name__ == \"__main__\":\n",
    "    data_points = generate_data()\n",
    "\n",
    "    # Test point\n",
    "    test_point = (random.randint(0, 50), random.randint(0, 50))\n",
    "    print(f\"Test point: {test_point}\")\n",
    "\n",
    "    # Perform classification for k=1,2,3,4,5\n",
    "    for k in range(1, 6):\n",
    "        result = k_nearest_neighbors(data_points, test_point, k)\n",
    "        print(f\"Classification with K={k}: {result}\")\n"
   ]
  },
  {
   "cell_type": "code",
   "execution_count": null,
   "id": "1b2be9d4",
   "metadata": {},
   "outputs": [],
   "source": []
  },
  {
   "cell_type": "code",
   "execution_count": null,
   "id": "54115f65",
   "metadata": {},
   "outputs": [],
   "source": []
  }
 ],
 "metadata": {
  "kernelspec": {
   "display_name": "Python 3 (ipykernel)",
   "language": "python",
   "name": "python3"
  },
  "language_info": {
   "codemirror_mode": {
    "name": "ipython",
    "version": 3
   },
   "file_extension": ".py",
   "mimetype": "text/x-python",
   "name": "python",
   "nbconvert_exporter": "python",
   "pygments_lexer": "ipython3",
   "version": "3.10.9"
  }
 },
 "nbformat": 4,
 "nbformat_minor": 5
}
