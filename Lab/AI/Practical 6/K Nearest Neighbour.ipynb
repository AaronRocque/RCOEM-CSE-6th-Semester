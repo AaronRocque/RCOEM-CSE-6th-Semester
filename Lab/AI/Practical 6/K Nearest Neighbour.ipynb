{
 "cells": [
  {
   "cell_type": "markdown",
   "id": "c1412ab4",
   "metadata": {},
   "source": [
    "# K Nearest Neighbour \n",
    "\n",
    "## Name: Aaron Emmanuel Rocque \n",
    "## Roll No: A-31\n",
    "## Batch: A2\n",
    "## Practical 06"
   ]
  },
  {
   "cell_type": "code",
   "execution_count": 1,
   "id": "a55437ac",
   "metadata": {},
   "outputs": [
    {
     "name": "stdout",
     "output_type": "stream",
     "text": [
      "Test point: (35, 31)\n",
      "Classification with K=1: positive\n",
      "Classification with K=2: positive\n",
      "Classification with K=3: positive\n",
      "Classification with K=4: positive\n",
      "Classification with K=5: positive\n"
     ]
    }
   ],
   "source": [
    "import random\n",
    "import heapq\n",
    "from collections import Counter\n",
    "\n",
    "#random for generating random data points \n",
    "#heapq for maintaing a priority queue\n",
    "#counter to count occurances of each class in nearest neighbor\n",
    "\n",
    "# Generate random data points\n",
    "def generate_data(num_points=20):\n",
    "    data = []\n",
    "    for _ in range(num_points):\n",
    "        x, y = random.randint(0, 50), random.randint(0, 50)\n",
    "        value = \"positive\" if x < 26 or y < 26 else \"negative\"\n",
    "        data.append(((x, y), value))\n",
    "    return data\n",
    "\n",
    "# Calculate Euclidean distance\n",
    "def euclidean_distance(point1, point2):\n",
    "    return ((point1[0] - point2[0])**2 + (point1[1] - point2[1])**2)**0.5\n",
    "\n",
    "# K nearest neighbors algorithm\n",
    "def k_nearest_neighbors(data, point, k=1):\n",
    "    distances = []\n",
    "    for index, item in enumerate(data):\n",
    "        distance = euclidean_distance(point, item[0])\n",
    "        heapq.heappush(distances, (distance, index))\n",
    "    \n",
    "    nearest_neighbors = [data[heapq.heappop(distances)[1]][1] for _ in range(k)]\n",
    "    return Counter(nearest_neighbors).most_common(1)[0][0]\n",
    "\n",
    "# Main program\n",
    "if __name__ == \"__main__\":\n",
    "    data_points = generate_data()\n",
    "\n",
    "    # Test point\n",
    "    test_point = (random.randint(0, 50), random.randint(0, 50))\n",
    "    print(f\"Test point: {test_point}\")\n",
    "\n",
    "    # Perform classification for k=1,2,3,4,5\n",
    "    for k in range(1, 6):\n",
    "        result = k_nearest_neighbors(data_points, test_point, k)\n",
    "        print(f\"Classification with K={k}: {result}\")\n"
   ]
  },
  {
   "cell_type": "markdown",
   "id": "842ac561",
   "metadata": {},
   "source": [
    "### Modified program to print 20 randomly selected datapoints along with their class lables"
   ]
  },
  {
   "cell_type": "code",
   "execution_count": 11,
   "id": "9fc4a9b2",
   "metadata": {},
   "outputs": [
    {
     "name": "stdout",
     "output_type": "stream",
     "text": [
      "Random data points:\n",
      "1: (15, 21), class: positive\n",
      "2: (26, 41), class: negative\n",
      "3: (44, 20), class: positive\n",
      "4: (5, 19), class: positive\n",
      "5: (17, 28), class: positive\n",
      "6: (28, 13), class: positive\n",
      "7: (15, 25), class: positive\n",
      "8: (25, 31), class: positive\n",
      "9: (5, 2), class: positive\n",
      "10: (5, 47), class: positive\n",
      "11: (31, 2), class: positive\n",
      "12: (2, 13), class: positive\n",
      "13: (41, 33), class: negative\n",
      "14: (37, 21), class: positive\n",
      "15: (30, 24), class: positive\n",
      "16: (39, 29), class: negative\n",
      "17: (26, 41), class: negative\n",
      "18: (50, 23), class: positive\n",
      "19: (39, 2), class: positive\n",
      "20: (41, 0), class: positive\n",
      "\n",
      "Test point: (9, 6)\n",
      "Classification with K=1: positive\n",
      "Classification with K=2: positive\n",
      "Classification with K=3: positive\n",
      "Classification with K=4: positive\n",
      "Classification with K=5: positive\n"
     ]
    }
   ],
   "source": [
    "import random\n",
    "import heapq\n",
    "from collections import Counter\n",
    "\n",
    "# Generate random data points\n",
    "def generate_data(num_points=20):\n",
    "    data = []\n",
    "    for _ in range(num_points):\n",
    "        x, y = random.randint(0, 50), random.randint(0, 50)\n",
    "        value = \"positive\" if x < 26 or y < 26 else \"negative\"\n",
    "        data.append(((x, y), value))\n",
    "    return data\n",
    "\n",
    "# Calculate Euclidean distance\n",
    "def euclidean_distance(point1, point2):\n",
    "    return ((point1[0] - point2[0])**2 + (point1[1] - point2[1])**2)**0.5\n",
    "\n",
    "# K nearest neighbors algorithm\n",
    "def k_nearest_neighbors(data, point, k=1):\n",
    "    distances = []\n",
    "    for index, item in enumerate(data):\n",
    "        distance = euclidean_distance(point, item[0])\n",
    "        heapq.heappush(distances, (distance, index))\n",
    "    \n",
    "    nearest_neighbors = [data[heapq.heappop(distances)[1]][1] for _ in range(k)]\n",
    "    return Counter(nearest_neighbors).most_common(1)[0][0]\n",
    "\n",
    "# Main program\n",
    "if __name__ == \"__main__\":\n",
    "    data_points = generate_data()\n",
    "\n",
    "    # Print the 20 random data points with their class labels\n",
    "    print(\"Random data points:\")\n",
    "    for index, data_point in enumerate(data_points):\n",
    "        print(f\"{index + 1}: {data_point[0]}, class: {data_point[1]}\")\n",
    "    print()\n",
    "\n",
    "    # Test point\n",
    "    test_point = (random.randint(0, 50), random.randint(0, 50))\n",
    "    print(f\"Test point: {test_point}\")\n",
    "\n",
    "    # Perform classification for k=1,2,3,4,5\n",
    "    for k in range(1, 6):\n",
    "        result = k_nearest_neighbors(data_points, test_point, k)\n",
    "        print(f\"Classification with K={k}: {result}\")\n"
   ]
  },
  {
   "cell_type": "code",
   "execution_count": null,
   "id": "37de7f1e",
   "metadata": {},
   "outputs": [],
   "source": []
  },
  {
   "cell_type": "code",
   "execution_count": null,
   "id": "9e7fd67f",
   "metadata": {},
   "outputs": [],
   "source": []
  }
 ],
 "metadata": {
  "kernelspec": {
   "display_name": "Python 3 (ipykernel)",
   "language": "python",
   "name": "python3"
  },
  "language_info": {
   "codemirror_mode": {
    "name": "ipython",
    "version": 3
   },
   "file_extension": ".py",
   "mimetype": "text/x-python",
   "name": "python",
   "nbconvert_exporter": "python",
   "pygments_lexer": "ipython3",
   "version": "3.10.9"
  }
 },
 "nbformat": 4,
 "nbformat_minor": 5
}
