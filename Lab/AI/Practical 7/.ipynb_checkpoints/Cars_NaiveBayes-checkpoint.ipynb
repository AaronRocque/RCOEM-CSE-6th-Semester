{
 "cells": [
  {
   "cell_type": "code",
   "execution_count": 1,
   "id": "4a6d5b31",
   "metadata": {},
   "outputs": [
    {
     "name": "stdout",
     "output_type": "stream",
     "text": [
      "The red domestic SUV is predicted not to be stolen.\n"
     ]
    }
   ],
   "source": [
    "import pandas as pd\n",
    "import numpy as np\n",
    "from sklearn.naive_bayes import GaussianNB\n",
    "import warnings\n",
    "from sklearn.exceptions import DataConversionWarning\n",
    "warnings.filterwarnings(action='ignore', category=UserWarning)\n",
    "\n",
    "\n",
    "# Load the dataset\n",
    "data = pd.read_csv('Cars.csv')\n",
    "\n",
    "# One-hot encoding for the 'Color', 'Type', and 'Origin' columns\n",
    "data = pd.get_dummies(data, columns=['Color', 'Type', 'Origin'], drop_first=True)\n",
    "\n",
    "# Convert the 'Stolen?' column to binary (1 for Yes, 0 for No)\n",
    "data['Stolen?'] = data['Stolen?'].map({'Yes': 1, 'No': 0})\n",
    "\n",
    "# Split the dataset into features (X) and the target variable (y)\n",
    "X = data.drop('Stolen?', axis=1)\n",
    "y = data['Stolen?']\n",
    "\n",
    "# Initialize the Gaussian Naive Bayes classifier\n",
    "clf = GaussianNB()\n",
    "\n",
    "# Train the classifier using the entire dataset \n",
    "clf.fit(X, y)\n",
    "\n",
    "# Prepare the data for the red domestic SUV\n",
    "# Color_Yellow (0), Type_SUV (1), Type_Sports (0), Origin_Imported (0)\n",
    "new_data = np.array([[0, 1, 0, 0]])\n",
    "\n",
    "# Make a prediction\n",
    "prediction = clf.predict(new_data)\n",
    "\n",
    "if prediction[0] == 1:\n",
    "    print(\"The red domestic SUV is predicted to be stolen.\")\n",
    "else:\n",
    "    print(\"The red domestic SUV is predicted not to be stolen.\")\n"
   ]
  },
  {
   "cell_type": "code",
   "execution_count": null,
   "id": "a9262d8b",
   "metadata": {},
   "outputs": [],
   "source": []
  }
 ],
 "metadata": {
  "kernelspec": {
   "display_name": "Python 3 (ipykernel)",
   "language": "python",
   "name": "python3"
  },
  "language_info": {
   "codemirror_mode": {
    "name": "ipython",
    "version": 3
   },
   "file_extension": ".py",
   "mimetype": "text/x-python",
   "name": "python",
   "nbconvert_exporter": "python",
   "pygments_lexer": "ipython3",
   "version": "3.10.9"
  }
 },
 "nbformat": 4,
 "nbformat_minor": 5
}
