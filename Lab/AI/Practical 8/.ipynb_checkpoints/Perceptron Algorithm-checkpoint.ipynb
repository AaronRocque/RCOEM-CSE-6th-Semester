{
 "cells": [
  {
   "cell_type": "code",
   "execution_count": 2,
   "id": "5a3d079c",
   "metadata": {},
   "outputs": [
    {
     "name": "stdout",
     "output_type": "stream",
     "text": [
      "AND gate -> 41 iterations\n",
      "OR gate -> 34 iterations\n",
      "NAND gate -> 69 iterations\n",
      "NOR gate -> 57 iterations\n"
     ]
    }
   ],
   "source": [
    "import numpy as np\n",
    "import random\n",
    "\n",
    "# Function to train a perceptron model for a given gate\n",
    "def train_perceptron(inputs, outputs, weights, learning_rate, max_iterations):\n",
    "    iterations = 0\n",
    "    while iterations < max_iterations:\n",
    "        for i in range(len(inputs)):\n",
    "            prediction = np.dot(inputs[i], weights)\n",
    "            error = outputs[i] - int(prediction >= 0)\n",
    "            weights = weights + learning_rate * error * inputs[i]\n",
    "        if np.all(np.array([int(np.dot(inputs[i], weights) >= 0) for i in range(len(inputs))]) == outputs):\n",
    "            break\n",
    "        iterations += 1\n",
    "    return weights, iterations\n",
    "\n",
    "# Define the gates' truth tables\n",
    "and_gate = np.array([0, 0, 0, 1])\n",
    "or_gate = np.array([0, 1, 1, 1])\n",
    "nand_gate = np.array([1, 1, 1, 0])\n",
    "nor_gate = np.array([1, 0, 0, 0])\n",
    "\n",
    "# Define the input dataset and learning rate\n",
    "inputs = np.array([[0, 0, 1], [0, 1, 1], [1, 0, 1], [1, 1, 1]])\n",
    "learning_rate = 0.1\n",
    "max_iterations = 1000\n",
    "\n",
    "# Initialize random weights between 1 and 10\n",
    "random.seed(42)\n",
    "initial_weights = np.array([random.uniform(1, 10) for _ in range(3)])\n",
    "\n",
    "# Train the perceptron for each gate and display the results\n",
    "gates = {\"AND\": and_gate, \"OR\": or_gate, \"NAND\": nand_gate, \"NOR\": nor_gate}\n",
    "\n",
    "for gate_name, gate_output in gates.items():\n",
    "    weights, iterations = train_perceptron(inputs, gate_output, np.copy(initial_weights), learning_rate, max_iterations)\n",
    "    print(f\"{gate_name} gate -> {iterations} iterations\")\n"
   ]
  },
  {
   "cell_type": "code",
   "execution_count": 4,
   "id": "61d6a61a",
   "metadata": {},
   "outputs": [
    {
     "name": "stdout",
     "output_type": "stream",
     "text": [
      "AND gate -> 41 iterations\n",
      "OR gate -> 34 iterations\n",
      "NAND gate -> 69 iterations\n",
      "NOR gate -> 57 iterations\n",
      "\n",
      "Classification of input (1, 1):\n",
      "AND gate -> 1\n",
      "OR gate -> 1\n",
      "NAND gate -> 0\n",
      "NOR gate -> 0\n"
     ]
    }
   ],
   "source": [
    "import numpy as np\n",
    "import random\n",
    "\n",
    "# Function to train a perceptron model for a given gate\n",
    "def train_perceptron(inputs, outputs, weights, learning_rate, max_iterations):\n",
    "    iterations = 0\n",
    "    while iterations < max_iterations:\n",
    "        for i in range(len(inputs)):\n",
    "            prediction = np.dot(inputs[i], weights)\n",
    "            error = outputs[i] - int(prediction >= 0)\n",
    "            weights = weights + learning_rate * error * inputs[i]\n",
    "        if np.all(np.array([int(np.dot(inputs[i], weights) >= 0) for i in range(len(inputs))]) == outputs):\n",
    "            break\n",
    "        iterations += 1\n",
    "    return weights, iterations\n",
    "\n",
    "# Function to classify an input using the trained weights\n",
    "def classify(input_vector, weights):\n",
    "    prediction = np.dot(input_vector, weights)\n",
    "    return int(prediction >= 0)\n",
    "\n",
    "# Define the gates' truth tables\n",
    "and_gate = np.array([0, 0, 0, 1])\n",
    "or_gate = np.array([0, 1, 1, 1])\n",
    "nand_gate = np.array([1, 1, 1, 0])\n",
    "nor_gate = np.array([1, 0, 0, 0])\n",
    "\n",
    "# Define the input dataset and learning rate\n",
    "inputs = np.array([[0, 0, 1], [0, 1, 1], [1, 0, 1], [1, 1, 1]])\n",
    "learning_rate = 0.1\n",
    "max_iterations = 1000\n",
    "\n",
    "# Initialize random weights between 1 and 10\n",
    "random.seed(42)\n",
    "initial_weights = np.array([random.uniform(1, 10) for _ in range(3)])\n",
    "\n",
    "# Train the perceptron for each gate and display the results\n",
    "gates = {\"AND\": and_gate, \"OR\": or_gate, \"NAND\": nand_gate, \"NOR\": nor_gate}\n",
    "\n",
    "for gate_name, gate_output in gates.items():\n",
    "    weights, iterations = train_perceptron(inputs, gate_output, np.copy(initial_weights), learning_rate, max_iterations)\n",
    "    print(f\"{gate_name} gate -> {iterations} iterations\")\n",
    "\n",
    "# Example classification using the trained models\n",
    "example_input = np.array([1, 1, 1])  # New input vector for classification (1, 1) with bias term\n",
    "print(\"\\nClassification of input (1, 1):\")\n",
    "for gate_name, gate_output in gates.items():\n",
    "    weights, _ = train_perceptron(inputs, gate_output, np.copy(initial_weights), learning_rate, max_iterations)\n",
    "    classification_result = classify(example_input, weights)\n",
    "    print(f\"{gate_name} gate -> {classification_result}\")\n"
   ]
  },
  {
   "cell_type": "code",
   "execution_count": null,
   "id": "9bc3034b",
   "metadata": {},
   "outputs": [],
   "source": []
  }
 ],
 "metadata": {
  "kernelspec": {
   "display_name": "Python 3 (ipykernel)",
   "language": "python",
   "name": "python3"
  },
  "language_info": {
   "codemirror_mode": {
    "name": "ipython",
    "version": 3
   },
   "file_extension": ".py",
   "mimetype": "text/x-python",
   "name": "python",
   "nbconvert_exporter": "python",
   "pygments_lexer": "ipython3",
   "version": "3.10.9"
  }
 },
 "nbformat": 4,
 "nbformat_minor": 5
}
