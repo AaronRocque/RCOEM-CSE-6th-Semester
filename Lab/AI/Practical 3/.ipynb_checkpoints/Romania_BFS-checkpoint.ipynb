{
 "cells": [
  {
   "cell_type": "code",
   "execution_count": 1,
   "id": "bb153892",
   "metadata": {},
   "outputs": [
    {
     "name": "stdout",
     "output_type": "stream",
     "text": [
      "['A', 'S', 'F', 'B']\n"
     ]
    }
   ],
   "source": [
    "from queue import Queue\n",
    "\n",
    "graph = {\n",
    "    'A': ['S', 'Z', 'T'],\n",
    "    'Z': ['A', 'O'],\n",
    "    'O': ['Z', 'S'],\n",
    "    'S': ['A', 'O', 'F', 'R'],\n",
    "    'T': ['A', 'L'],\n",
    "    'L': ['T', 'M'],\n",
    "    'M': ['L', 'D'],\n",
    "    'D': ['M', 'C'],\n",
    "    'C': ['D', 'R', 'P'],\n",
    "    'R': ['S', 'C', 'P'],\n",
    "    'F': ['S', 'B'],\n",
    "    'P': ['R', 'C', 'B'],\n",
    "    'B': ['F', 'P', 'G', 'U'],\n",
    "    'G': ['B'],\n",
    "    'U': ['B', 'V', 'H'],\n",
    "    'H': ['U', 'E'],\n",
    "    'E': ['H'],\n",
    "    'V': ['I', 'U'],\n",
    "    'I': ['V', 'N'],\n",
    "    'N': ['I']\n",
    "}\n",
    "\n",
    "def bfs(source, destination):\n",
    "    visited = {}\n",
    "    parent = {}\n",
    "    bfs_output = []\n",
    "    queue = Queue()\n",
    "\n",
    "    for city in graph.keys():\n",
    "        visited[city] = False\n",
    "        parent[city] = None\n",
    "\n",
    "    source_city = source \n",
    "    visited[source_city] = True \n",
    "    queue.put(source_city)\n",
    "\n",
    "    while not queue.empty():\n",
    "        first_city = queue.get()\n",
    "        bfs_output.append(first_city)\n",
    "\n",
    "        for any_city in graph[first_city]:\n",
    "            if not visited[any_city]:\n",
    "                visited[any_city] = True\n",
    "                parent[any_city] = first_city\n",
    "                queue.put(any_city)\n",
    "    \n",
    "    destination_city = destination\n",
    "    path = []\n",
    "    \n",
    "    while destination_city is not None:\n",
    "        path.append(destination_city)\n",
    "        destination_city = parent[destination_city]\n",
    "    \n",
    "    path.reverse()\n",
    "    print(path)\n",
    "\n",
    "bfs('A', 'B')\n",
    "\n",
    "\n"
   ]
  },
  {
   "cell_type": "code",
   "execution_count": null,
   "id": "d768cf93",
   "metadata": {},
   "outputs": [],
   "source": []
  }
 ],
 "metadata": {
  "kernelspec": {
   "display_name": "Python 3 (ipykernel)",
   "language": "python",
   "name": "python3"
  },
  "language_info": {
   "codemirror_mode": {
    "name": "ipython",
    "version": 3
   },
   "file_extension": ".py",
   "mimetype": "text/x-python",
   "name": "python",
   "nbconvert_exporter": "python",
   "pygments_lexer": "ipython3",
   "version": "3.10.9"
  }
 },
 "nbformat": 4,
 "nbformat_minor": 5
}
